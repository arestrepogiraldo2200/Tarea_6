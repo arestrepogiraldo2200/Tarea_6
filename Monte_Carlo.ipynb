{
 "cells": [
  {
   "cell_type": "markdown",
   "metadata": {},
   "source": [
    "Alejandro Restrepo Giraldo CC: 1001389709\n",
    "\n",
    "## Tarea 6: Monte Carlo"
   ]
  },
  {
   "cell_type": "markdown",
   "metadata": {},
   "source": [
    "Se implementa el algoritmo importance sampling en donde las integrales se aproximan por \n",
    "\n",
    "$$Q_N = \\frac{1}{N}\\sum_{i=1}^N\\frac{f(x_n)}{p(x_n)}$$\n",
    "\n",
    "Con error\n",
    "\n",
    "$$\\frac{\\sigma(f/p)}{\\sqrt{N}} = \\frac{\\frac{1}{N}\\sum_{i=1}^N\\left( \\frac{f(x_n)}{p(x_n)} \\right)^2-Q_N ^2}{\\sqrt{N}}$$\n",
    "\n",
    "en donde $p(x)$ debe tener las propiedades de una distribución densidad de probabilidad."
   ]
  },
  {
   "cell_type": "code",
   "execution_count": 34,
   "metadata": {},
   "outputs": [],
   "source": [
    "import numpy as np\n",
    "import random\n",
    "import matplotlib.pyplot as plt"
   ]
  },
  {
   "cell_type": "markdown",
   "metadata": {},
   "source": [
    "La primera integral a desarrollar es $$\\int_{0}^{10} dx (x^2-4)$$\n",
    "\n",
    "La normal $N(12,3.7)$ se aproxima mucho a la función a integrar como lo evidencia la siguiente gráfica en donde se muestran $1000\\times N(12,3.7)$ y $x^2-4$."
   ]
  },
  {
   "cell_type": "code",
   "execution_count": 35,
   "metadata": {
    "scrolled": true
   },
   "outputs": [
    {
     "data": {
      "image/png": "[encoded data removed]",
      "text/plain": [
       "<Figure size 432x360 with 1 Axes>"
      ]
     },
     "metadata": {
      "needs_background": "light"
     },
     "output_type": "display_data"
    }
   ],
   "source": [
    "# Número de puntos\n",
    "N = 1000000\n",
    "# Sample points\n",
    "x = np.linspace(0,10, N)\n",
    "\n",
    "# Funciones a integrar y de peso\n",
    "f = x**2-4\n",
    "p = (1/(3.7*(2*np.pi)**0.5))*np.e**(-(x-12)**2/(2*3.7**2))\n",
    "\n",
    "# Gráfica\n",
    "fig = plt.figure(figsize=(6,5))\n",
    "plt.plot(x,f)\n",
    "plt.plot(x,1000*p)\n",
    "plt.show()"
   ]
  },
  {
   "cell_type": "code",
   "execution_count": 36,
   "metadata": {},
   "outputs": [
    {
     "name": "stdout",
     "output_type": "stream",
     "text": [
      "250.41267144826162\n"
     ]
    }
   ],
   "source": [
    "# Integral\n",
    "QN = 0\n",
    "for i in range(0,len(f)):\n",
    "    QN += f[i]/p[i]\n",
    "QN = QN/N\n",
    "print(QN)"
   ]
  },
  {
   "cell_type": "markdown",
   "metadata": {},
   "source": [
    "$$\\frac{\\sigma(f/p)}{\\sqrt{N}} = \\frac{\\frac{1}{N}\\sum_{i=1}^N\\left( \\frac{f(x_n)}{p(x_n)} \\right)^2-Q_N ^2}{\\sqrt{N}}$$"
   ]
  },
  {
   "cell_type": "code",
   "execution_count": 37,
   "metadata": {},
   "outputs": [
    {
     "name": "stdout",
     "output_type": "stream",
     "text": [
      "3112.0380020693765\n"
     ]
    }
   ],
   "source": [
    "# Error\n",
    "e = 0\n",
    "for i in range(0,len(f)):\n",
    "    e += (f[i]/p[i])**2 - QN**2\n",
    "e = e/N\n",
    "err = e/N**0.5\n",
    "\n",
    "print(err)"
   ]
  },
  {
   "cell_type": "markdown",
   "metadata": {},
   "source": [
    "La segunda integral a desarrollar es $$\\int_{0.5}^{1.7} dx sin(x)^2$$\n",
    "\n",
    "La normal $N(1.5,0.6)$ se aproxima mucho a la función a integrar como lo evidencia la siguiente gráfica en donde se muestran $1.5\\times N(1.5,0.6)$ y $sin(x)^2$."
   ]
  },
  {
   "cell_type": "code",
   "execution_count": 38,
   "metadata": {
    "scrolled": false
   },
   "outputs": [
    {
     "data": {
      "image/png": "[encoded data removed]",
      "text/plain": [
       "<Figure size 432x360 with 1 Axes>"
      ]
     },
     "metadata": {
      "needs_background": "light"
     },
     "output_type": "display_data"
    }
   ],
   "source": [
    "# Número de puntos\n",
    "N = 1000000\n",
    "# Sample points\n",
    "x = np.linspace(0.5,1.7, N)\n",
    "\n",
    "# Funciones a integrar y de peso\n",
    "f = np.sin(x)**2\n",
    "p = (1/(0.6*(2*np.pi)**0.5))*np.e**(-(x-1.5)**2/(2*0.6**2))\n",
    "\n",
    "# Gráfica\n",
    "fig = plt.figure(figsize=(6,5))\n",
    "plt.plot(x,f)\n",
    "plt.plot(x,1.5*p)\n",
    "plt.show()"
   ]
  },
  {
   "cell_type": "code",
   "execution_count": 39,
   "metadata": {},
   "outputs": [
    {
     "name": "stdout",
     "output_type": "stream",
     "text": [
      "1.4985837412499357\n"
     ]
    }
   ],
   "source": [
    "# Integral\n",
    "QN = 0\n",
    "for i in range(0,len(f)):\n",
    "    QN += f[i]/p[i]\n",
    "QN = QN/N\n",
    "print(QN)"
   ]
  },
  {
   "cell_type": "code",
   "execution_count": 40,
   "metadata": {},
   "outputs": [
    {
     "name": "stdout",
     "output_type": "stream",
     "text": [
      "8.227324446789981e-07\n"
     ]
    }
   ],
   "source": [
    "# Error\n",
    "e = 0\n",
    "for i in range(0,len(f)):\n",
    "    e += (f[i]/p[i])**2 - QN**2\n",
    "e = e/N\n",
    "err = e/N**0.5\n",
    "\n",
    "print(err)"
   ]
  },
  {
   "cell_type": "markdown",
   "metadata": {},
   "source": [
    "Se observa que el método se desvía de los valores reales (299.333 y 0.874253) en 16% y 71% respectivamente para las integrales primera y segunda. El método es muy suceptible a la distribución."
   ]
  },
  {
   "cell_type": "code",
   "execution_count": null,
   "metadata": {},
   "outputs": [],
   "source": []
  }
 ],
 "metadata": {
  "kernelspec": {
   "display_name": "Python 3",
   "language": "python",
   "name": "python3"
  },
  "language_info": {
   "codemirror_mode": {
    "name": "ipython",
    "version": 3
   },
   "file_extension": ".py",
   "mimetype": "text/x-python",
   "name": "python",
   "nbconvert_exporter": "python",
   "pygments_lexer": "ipython3",
   "version": "3.8.5"
  }
 },
 "nbformat": 4,
 "nbformat_minor": 4
}
